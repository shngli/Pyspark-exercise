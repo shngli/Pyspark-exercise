{
 "cells": [
  {
   "cell_type": "code",
   "execution_count": 0,
   "metadata": {
    "application/vnd.databricks.v1+cell": {
     "cellMetadata": {
      "byteLimit": 2048000,
      "rowLimit": 10000
     },
     "inputWidgets": {},
     "nuid": "42ea6bf8-f9b0-4a6f-b545-5bacdf340f2b",
     "showTitle": false,
     "title": ""
    }
   },
   "outputs": [],
   "source": [
    "from pyspark.sql import SparkSession\n",
    "from pyspark.sql.functions import lit, col\n",
    "import numpy as np"
   ]
  },
  {
   "cell_type": "code",
   "execution_count": 0,
   "metadata": {
    "application/vnd.databricks.v1+cell": {
     "cellMetadata": {
      "byteLimit": 2048000,
      "rowLimit": 10000
     },
     "inputWidgets": {},
     "nuid": "08a9635a-6319-4be6-b814-f12367c3c447",
     "showTitle": false,
     "title": ""
    }
   },
   "outputs": [],
   "source": [
    "spark_session = (SparkSession.builder\n",
    "                             .master(\"local[*]\")\n",
    "                             .appName(\"EnglandCouncilsJob\")\n",
    "                             .getOrCreate())\n",
    "\n",
    "input_directory = \"/FileStore/tables/data\""
   ]
  },
  {
   "cell_type": "code",
   "execution_count": 0,
   "metadata": {
    "application/vnd.databricks.v1+cell": {
     "cellMetadata": {
      "byteLimit": 2048000,
      "rowLimit": 10000
     },
     "inputWidgets": {},
     "nuid": "79c1af68-9f92-432e-a95e-f5d00d772686",
     "showTitle": false,
     "title": ""
    }
   },
   "outputs": [],
   "source": [
    "district_councilsdf = spark_session.read.option('header','true')\\\n",
    "                                   .option('inferSchema','true').option('sep',',')\\\n",
    "                                   .csv(f'{input_directory}/england_councils/district_councils.csv')\\\n",
    "                                   .withColumn('council_type', lit('District Council'))\n",
    "\n",
    "london_boroughsdf = spark_session.read.option('header','true')\\\n",
    "                                   .option('inferSchema','true').option('sep',',')\\\n",
    "                                   .csv(f'{input_directory}/england_councils/london_boroughs.csv')\\\n",
    "                                   .withColumn('council_type', lit('London Boroughs'))\n",
    "\n",
    "metropolitan_districtsdf = spark_session.read.option('header','true')\\\n",
    "                                   .option('inferSchema','true').option('sep',',')\\\n",
    "                                   .csv(f'{input_directory}/england_councils/metropolitan_districts.csv')\\\n",
    "                                   .withColumn('council_type', lit('Metropolitan Districts'))\n",
    "\n",
    "unitary_authoritiesdf = spark_session.read.option('header','true')\\\n",
    "                                   .option('inferSchema','true').option('sep',',')\\\n",
    "                                   .csv(f'{input_directory}/england_councils/unitary_authorities.csv')\\\n",
    "                                   .withColumn('council_type', lit('Unitary Authorities'))"
   ]
  },
  {
   "cell_type": "code",
   "execution_count": 0,
   "metadata": {
    "application/vnd.databricks.v1+cell": {
     "cellMetadata": {
      "byteLimit": 2048000,
      "rowLimit": 10000
     },
     "inputWidgets": {},
     "nuid": "58367c25-38e0-4ac7-bd2d-d4b748e38c55",
     "showTitle": false,
     "title": ""
    }
   },
   "outputs": [],
   "source": [
    "councils_df = district_councilsdf.union(london_boroughsdf)\\\n",
    "                                .union(metropolitan_districtsdf)\\\n",
    "                                .union(unitary_authoritiesdf)"
   ]
  },
  {
   "cell_type": "code",
   "execution_count": 0,
   "metadata": {
    "application/vnd.databricks.v1+cell": {
     "cellMetadata": {
      "byteLimit": 2048000,
      "rowLimit": 10000
     },
     "inputWidgets": {},
     "nuid": "cc65ec90-a50e-4c97-94bb-26a74af5fb5c",
     "showTitle": false,
     "title": ""
    }
   },
   "outputs": [],
   "source": [
    "property_avg_pricedf = spark_session.read.option('header','true')\\\n",
    "                                    .option('inferSchema','true').option('sep',',')\\\n",
    "                                    .csv(f'{input_directory}/property_avg_price.csv')\\\n",
    "                                    .select(col('local_authority').alias('council'), col('avg_price_nov_2019'))"
   ]
  },
  {
   "cell_type": "code",
   "execution_count": 0,
   "metadata": {
    "application/vnd.databricks.v1+cell": {
     "cellMetadata": {
      "byteLimit": 2048000,
      "rowLimit": 10000
     },
     "inputWidgets": {},
     "nuid": "5674dd3d-c699-4ce4-9656-65ac3058723e",
     "showTitle": false,
     "title": ""
    }
   },
   "outputs": [],
   "source": [
    "property_sales_volumedf = spark_session.read.option('header','true')\\\n",
    "                                    .option('inferSchema','true').option('sep',',')\\\n",
    "                                    .csv(f'{input_directory}/property_sales_volume.csv')\\\n",
    "                                    .select(col('local_authority').alias('council'), col('sales_volume_sep_2019'))"
   ]
  },
  {
   "cell_type": "code",
   "execution_count": 0,
   "metadata": {
    "application/vnd.databricks.v1+cell": {
     "cellMetadata": {
      "byteLimit": 2048000,
      "rowLimit": 10000
     },
     "inputWidgets": {},
     "nuid": "ffb85b6b-5ea1-42c5-a416-aa91057eb930",
     "showTitle": false,
     "title": ""
    }
   },
   "outputs": [],
   "source": [
    "councils_df = councils_df.join(property_avg_pricedf, on='council', how='left')\\\n",
    "                         .join(property_sales_volumedf, on='council', how='left')\\\n",
    "                         .replace({np.nan: None})"
   ]
  },
  {
   "cell_type": "code",
   "execution_count": null,
   "metadata": {},
   "outputs": [],
   "source": [
    "councils_df.show()"
   ]
  },
  {
   "cell_type": "code",
   "execution_count": 0,
   "metadata": {
    "application/vnd.databricks.v1+cell": {
     "cellMetadata": {
      "byteLimit": 2048000,
      "rowLimit": 10000
     },
     "inputWidgets": {},
     "nuid": "5bc69d1a-4cb3-4f33-8e59-c1bf6f58560f",
     "showTitle": false,
     "title": ""
    }
   },
   "outputs": [
    {
     "name": "stdout",
     "output_type": "stream",
     "text": [
      "316 5\n"
     ]
    }
   ],
   "source": [
    "print(councils_df.count(), len(councils_df.columns))"
   ]
  },
  {
   "cell_type": "code",
   "execution_count": 0,
   "metadata": {
    "application/vnd.databricks.v1+cell": {
     "cellMetadata": {
      "byteLimit": 2048000,
      "rowLimit": 10000
     },
     "inputWidgets": {},
     "nuid": "9908b339-23cb-491a-91cd-d0309bd99697",
     "showTitle": false,
     "title": ""
    }
   },
   "outputs": [],
   "source": [
    "councils_df.write.mode('overwrite').parquet(f'{input_directory}/councils.parquet')"
   ]
  },
  {
   "cell_type": "code",
   "execution_count": 0,
   "metadata": {
    "application/vnd.databricks.v1+cell": {
     "cellMetadata": {
      "byteLimit": 2048000,
      "rowLimit": 10000
     },
     "inputWidgets": {},
     "nuid": "8d3bb57e-dba3-4c71-b465-e70ceb15ea9d",
     "showTitle": false,
     "title": ""
    }
   },
   "outputs": [
    {
     "name": "stdout",
     "output_type": "stream",
     "text": [
      "Out[11]: [FileInfo(path='dbfs:/FileStore/tables/data/councils.parquet/', name='councils.parquet/', size=0, modificationTime=1681574160000),\n",
      " FileInfo(path='dbfs:/FileStore/tables/data/england_councils/', name='england_councils/', size=0, modificationTime=1681573989000),\n",
      " FileInfo(path='dbfs:/FileStore/tables/data/property_avg_price.csv', name='property_avg_price.csv', size=13483, modificationTime=1681573971000),\n",
      " FileInfo(path='dbfs:/FileStore/tables/data/property_sales_volume.csv', name='property_sales_volume.csv', size=6964, modificationTime=1681573971000)]"
     ]
    }
   ],
   "source": [
    "dbutils.fs.ls('dbfs:/FileStore/tables/data/')"
   ]
  },
  {
   "cell_type": "code",
   "execution_count": 0,
   "metadata": {
    "application/vnd.databricks.v1+cell": {
     "cellMetadata": {
      "byteLimit": 2048000,
      "implicitDf": true,
      "rowLimit": 10000
     },
     "inputWidgets": {},
     "nuid": "42046d56-14f5-4f03-8d95-3ff835dcd6da",
     "showTitle": false,
     "title": ""
    }
   },
   "outputs": [
    {
     "data": {
      "text/html": [
       "<style scoped>\n",
       "  .table-result-container {\n",
       "    max-height: 300px;\n",
       "    overflow: auto;\n",
       "  }\n",
       "  table, th, td {\n",
       "    border: 1px solid black;\n",
       "    border-collapse: collapse;\n",
       "  }\n",
       "  th, td {\n",
       "    padding: 5px;\n",
       "  }\n",
       "  th {\n",
       "    text-align: left;\n",
       "  }\n",
       "</style><div class='table-result-container'><table class='table-result'><thead style='background-color: white'><tr></tr></thead><tbody></tbody></table></div>"
      ]
     },
     "metadata": {
      "application/vnd.databricks.v1+output": {
       "addedWidgets": {},
       "aggData": [],
       "aggError": "",
       "aggOverflow": false,
       "aggSchema": [],
       "aggSeriesLimitReached": false,
       "aggType": "",
       "arguments": {},
       "columnCustomDisplayInfos": {},
       "data": [],
       "datasetInfos": [],
       "dbfsResultPath": null,
       "isJsonSchema": true,
       "metadata": {},
       "overflow": false,
       "plotOptions": {
        "customPlotOptions": {},
        "displayType": "table",
        "pivotAggregation": null,
        "pivotColumns": null,
        "xColumns": null,
        "yColumns": null
       },
       "removedWidgets": [],
       "schema": [],
       "type": "table"
      }
     },
     "output_type": "display_data"
    }
   ],
   "source": [
    "%sql\n",
    "CREATE DATABASE IF NOT EXISTS demo;\n",
    "USE demo;"
   ]
  },
  {
   "cell_type": "code",
   "execution_count": 0,
   "metadata": {
    "application/vnd.databricks.v1+cell": {
     "cellMetadata": {
      "byteLimit": 2048000,
      "rowLimit": 10000
     },
     "inputWidgets": {},
     "nuid": "1e31e59e-dae8-4a43-9178-e0408175614a",
     "showTitle": false,
     "title": ""
    }
   },
   "outputs": [],
   "source": [
    "councils_df.write.format('parquet').saveAsTable('demo.councils')"
   ]
  },
  {
   "cell_type": "code",
   "execution_count": 0,
   "metadata": {
    "application/vnd.databricks.v1+cell": {
     "cellMetadata": {
      "byteLimit": 2048000,
      "implicitDf": true,
      "rowLimit": 10000
     },
     "inputWidgets": {},
     "nuid": "21e9556a-c2ce-4694-a7c1-2e6fd681109f",
     "showTitle": false,
     "title": ""
    },
    "scrolled": true
   },
   "outputs": [
    {
     "data": {
      "text/html": [
       "<style scoped>\n",
       "  .table-result-container {\n",
       "    max-height: 300px;\n",
       "    overflow: auto;\n",
       "  }\n",
       "  table, th, td {\n",
       "    border: 1px solid black;\n",
       "    border-collapse: collapse;\n",
       "  }\n",
       "  th, td {\n",
       "    padding: 5px;\n",
       "  }\n",
       "  th {\n",
       "    text-align: left;\n",
       "  }\n",
       "</style><div class='table-result-container'><table class='table-result'><thead style='background-color: white'><tr><th>council</th><th>county</th><th>council_type</th><th>avg_price_nov_2019</th><th>sales_volume_sep_2019</th></tr></thead><tbody><tr><td>Trafford</td><td>Greater Manchester</td><td>Metropolitan Districts</td><td>296547.0</td><td>265</td></tr><tr><td>Solihull</td><td>West Midlands</td><td>Metropolitan Districts</td><td>288068.0</td><td>237</td></tr><tr><td>Stockport</td><td>Greater Manchester</td><td>Metropolitan Districts</td><td>238043.0</td><td>358</td></tr><tr><td>Birmingham</td><td>West Midlands</td><td>Metropolitan Districts</td><td>190901.0</td><td>844</td></tr><tr><td>Coventry</td><td>West Midlands</td><td>Metropolitan Districts</td><td>190220.0</td><td>329</td></tr><tr><td>Leeds</td><td>West Yorkshire</td><td>Metropolitan Districts</td><td>189738.0</td><td>854</td></tr><tr><td>Manchester</td><td>Greater Manchester</td><td>Metropolitan Districts</td><td>185333.0</td><td>406</td></tr><tr><td>Dudley</td><td>West Midlands</td><td>Metropolitan Districts</td><td>184010.0</td><td>351</td></tr><tr><td>Bury</td><td>Greater Manchester</td><td>Metropolitan Districts</td><td>181541.0</td><td>179</td></tr><tr><td>Sefton</td><td>Merseyside</td><td>Metropolitan Districts</td><td>173595.0</td><td>314</td></tr><tr><td>Sheffield</td><td>South Yorkshire</td><td>Metropolitan Districts</td><td>171848.0</td><td>531</td></tr><tr><td>Walsall</td><td>West Midlands</td><td>Metropolitan Districts</td><td>171086.0</td><td>235</td></tr><tr><td>Salford</td><td>Greater Manchester</td><td>Metropolitan Districts</td><td>170793.0</td><td>307</td></tr><tr><td>North Tyneside</td><td>Tyne and Wear</td><td>Metropolitan Districts</td><td>163954.0</td><td>263</td></tr><tr><td>Wirral</td><td>Merseyside</td><td>Metropolitan Districts</td><td>163933.0</td><td>357</td></tr><tr><td>Sandwell</td><td>West Midlands</td><td>Metropolitan Districts</td><td>158597.0</td><td>225</td></tr><tr><td>Wolverhampton</td><td>West Midlands</td><td>Metropolitan Districts</td><td>158445.0</td><td>233</td></tr><tr><td>Tameside</td><td>Greater Manchester</td><td>Metropolitan Districts</td><td>157001.0</td><td>275</td></tr><tr><td>Calderdale</td><td>West Yorkshire</td><td>Metropolitan Districts</td><td>154877.0</td><td>217</td></tr><tr><td>Wakefield</td><td>West Yorkshire</td><td>Metropolitan Districts</td><td>151743.0</td><td>393</td></tr><tr><td>Kirklees</td><td>West Yorkshire</td><td>Metropolitan Districts</td><td>151661.0</td><td>452</td></tr><tr><td>Liverpool</td><td>Merseyside</td><td>Metropolitan Districts</td><td>142280.0</td><td>487</td></tr><tr><td>Rochdale</td><td>Greater Manchester</td><td>Metropolitan Districts</td><td>142220.0</td><td>193</td></tr><tr><td>Bolton</td><td>Greater Manchester</td><td>Metropolitan Districts</td><td>141901.0</td><td>277</td></tr><tr><td>Rotherham</td><td>South Yorkshire</td><td>Metropolitan Districts</td><td>141883.0</td><td>271</td></tr><tr><td>Oldham</td><td>Greater Manchester</td><td>Metropolitan Districts</td><td>141037.0</td><td>232</td></tr><tr><td>Bradford</td><td>West Yorkshire</td><td>Metropolitan Districts</td><td>138017.0</td><td>540</td></tr><tr><td>Wigan</td><td>Greater Manchester</td><td>Metropolitan Districts</td><td>137728.0</td><td>387</td></tr><tr><td>South Tyneside</td><td>Tyne and Wear</td><td>Metropolitan Districts</td><td>136430.0</td><td>128</td></tr><tr><td>Knowsley</td><td>Merseyside</td><td>Metropolitan Districts</td><td>133276.0</td><td>156</td></tr><tr><td>Doncaster</td><td>South Yorkshire</td><td>Metropolitan Districts</td><td>132509.0</td><td>308</td></tr><tr><td>Barnsley</td><td>South Yorkshire</td><td>Metropolitan Districts</td><td>131563.0</td><td>247</td></tr><tr><td>St Helens</td><td>Merseyside</td><td>Metropolitan Districts</td><td>131311.0</td><td>204</td></tr><tr><td>Gateshead</td><td>Tyne and Wear</td><td>Metropolitan Districts</td><td>131006.0</td><td>215</td></tr><tr><td>Sunderland</td><td>Tyne and Wear</td><td>Metropolitan Districts</td><td>117184.0</td><td>277</td></tr></tbody></table></div>"
      ]
     },
     "metadata": {
      "application/vnd.databricks.v1+output": {
       "addedWidgets": {},
       "aggData": [],
       "aggError": "",
       "aggOverflow": false,
       "aggSchema": [],
       "aggSeriesLimitReached": false,
       "aggType": "",
       "arguments": {},
       "columnCustomDisplayInfos": {},
       "data": [
        [
         "Trafford",
         "Greater Manchester",
         "Metropolitan Districts",
         296547,
         265
        ],
        [
         "Solihull",
         "West Midlands",
         "Metropolitan Districts",
         288068,
         237
        ],
        [
         "Stockport",
         "Greater Manchester",
         "Metropolitan Districts",
         238043,
         358
        ],
        [
         "Birmingham",
         "West Midlands",
         "Metropolitan Districts",
         190901,
         844
        ],
        [
         "Coventry",
         "West Midlands",
         "Metropolitan Districts",
         190220,
         329
        ],
        [
         "Leeds",
         "West Yorkshire",
         "Metropolitan Districts",
         189738,
         854
        ],
        [
         "Manchester",
         "Greater Manchester",
         "Metropolitan Districts",
         185333,
         406
        ],
        [
         "Dudley",
         "West Midlands",
         "Metropolitan Districts",
         184010,
         351
        ],
        [
         "Bury",
         "Greater Manchester",
         "Metropolitan Districts",
         181541,
         179
        ],
        [
         "Sefton",
         "Merseyside",
         "Metropolitan Districts",
         173595,
         314
        ],
        [
         "Sheffield",
         "South Yorkshire",
         "Metropolitan Districts",
         171848,
         531
        ],
        [
         "Walsall",
         "West Midlands",
         "Metropolitan Districts",
         171086,
         235
        ],
        [
         "Salford",
         "Greater Manchester",
         "Metropolitan Districts",
         170793,
         307
        ],
        [
         "North Tyneside",
         "Tyne and Wear",
         "Metropolitan Districts",
         163954,
         263
        ],
        [
         "Wirral",
         "Merseyside",
         "Metropolitan Districts",
         163933,
         357
        ],
        [
         "Sandwell",
         "West Midlands",
         "Metropolitan Districts",
         158597,
         225
        ],
        [
         "Wolverhampton",
         "West Midlands",
         "Metropolitan Districts",
         158445,
         233
        ],
        [
         "Tameside",
         "Greater Manchester",
         "Metropolitan Districts",
         157001,
         275
        ],
        [
         "Calderdale",
         "West Yorkshire",
         "Metropolitan Districts",
         154877,
         217
        ],
        [
         "Wakefield",
         "West Yorkshire",
         "Metropolitan Districts",
         151743,
         393
        ],
        [
         "Kirklees",
         "West Yorkshire",
         "Metropolitan Districts",
         151661,
         452
        ],
        [
         "Liverpool",
         "Merseyside",
         "Metropolitan Districts",
         142280,
         487
        ],
        [
         "Rochdale",
         "Greater Manchester",
         "Metropolitan Districts",
         142220,
         193
        ],
        [
         "Bolton",
         "Greater Manchester",
         "Metropolitan Districts",
         141901,
         277
        ],
        [
         "Rotherham",
         "South Yorkshire",
         "Metropolitan Districts",
         141883,
         271
        ],
        [
         "Oldham",
         "Greater Manchester",
         "Metropolitan Districts",
         141037,
         232
        ],
        [
         "Bradford",
         "West Yorkshire",
         "Metropolitan Districts",
         138017,
         540
        ],
        [
         "Wigan",
         "Greater Manchester",
         "Metropolitan Districts",
         137728,
         387
        ],
        [
         "South Tyneside",
         "Tyne and Wear",
         "Metropolitan Districts",
         136430,
         128
        ],
        [
         "Knowsley",
         "Merseyside",
         "Metropolitan Districts",
         133276,
         156
        ],
        [
         "Doncaster",
         "South Yorkshire",
         "Metropolitan Districts",
         132509,
         308
        ],
        [
         "Barnsley",
         "South Yorkshire",
         "Metropolitan Districts",
         131563,
         247
        ],
        [
         "St Helens",
         "Merseyside",
         "Metropolitan Districts",
         131311,
         204
        ],
        [
         "Gateshead",
         "Tyne and Wear",
         "Metropolitan Districts",
         131006,
         215
        ],
        [
         "Sunderland",
         "Tyne and Wear",
         "Metropolitan Districts",
         117184,
         277
        ]
       ],
       "datasetInfos": [],
       "dbfsResultPath": null,
       "isJsonSchema": true,
       "metadata": {},
       "overflow": false,
       "plotOptions": {
        "customPlotOptions": {},
        "displayType": "table",
        "pivotAggregation": null,
        "pivotColumns": null,
        "xColumns": null,
        "yColumns": null
       },
       "removedWidgets": [],
       "schema": [
        {
         "metadata": "{}",
         "name": "council",
         "type": "\"string\""
        },
        {
         "metadata": "{}",
         "name": "county",
         "type": "\"string\""
        },
        {
         "metadata": "{}",
         "name": "council_type",
         "type": "\"string\""
        },
        {
         "metadata": "{}",
         "name": "avg_price_nov_2019",
         "type": "\"double\""
        },
        {
         "metadata": "{}",
         "name": "sales_volume_sep_2019",
         "type": "\"integer\""
        }
       ],
       "type": "table"
      }
     },
     "output_type": "display_data"
    }
   ],
   "source": [
    "%sql\n",
    "SELECT * \n",
    "FROM demo.councils\n",
    "WHERE council_type = 'Metropolitan Districts'\n",
    "    AND sales_volume_sep_2019 > 100\n",
    "ORDER BY avg_price_nov_2019 DESC;"
   ]
  },
  {
   "cell_type": "code",
   "execution_count": 0,
   "metadata": {
    "application/vnd.databricks.v1+cell": {
     "cellMetadata": {
      "byteLimit": 2048000,
      "implicitDf": true,
      "rowLimit": 10000
     },
     "inputWidgets": {},
     "nuid": "1345b0df-f3a3-4ea2-a535-7328edd48815",
     "showTitle": false,
     "title": ""
    }
   },
   "outputs": [
    {
     "data": {
      "text/html": [
       "<style scoped>\n",
       "  .table-result-container {\n",
       "    max-height: 300px;\n",
       "    overflow: auto;\n",
       "  }\n",
       "  table, th, td {\n",
       "    border: 1px solid black;\n",
       "    border-collapse: collapse;\n",
       "  }\n",
       "  th, td {\n",
       "    padding: 5px;\n",
       "  }\n",
       "  th {\n",
       "    text-align: left;\n",
       "  }\n",
       "</style><div class='table-result-container'><table class='table-result'><thead style='background-color: white'><tr><th>county</th><th>council_type</th><th>sales_volume</th><th>rank</th></tr></thead><tbody><tr><td>Essex</td><td>District Council</td><td>1839</td><td>1</td></tr><tr><td>Hampshire</td><td>District Council</td><td>1658</td><td>2</td></tr><tr><td>Kent</td><td>District Council</td><td>1654</td><td>3</td></tr><tr><td>Greater London</td><td>London Boroughs</td><td>6155</td><td>1</td></tr><tr><td>City of London</td><td>London Boroughs</td><td>10</td><td>2</td></tr><tr><td>Greater Manchester</td><td>Metropolitan Districts</td><td>2879</td><td>1</td></tr><tr><td>West Yorkshire</td><td>Metropolitan Districts</td><td>2456</td><td>2</td></tr><tr><td>West Midlands</td><td>Metropolitan Districts</td><td>2454</td><td>3</td></tr><tr><td>Cheshire</td><td>Unitary Authorities</td><td>1344</td><td>1</td></tr><tr><td>County Durham</td><td>Unitary Authorities</td><td>1051</td><td>2</td></tr><tr><td>Berkshire</td><td>Unitary Authorities</td><td>932</td><td>3</td></tr></tbody></table></div>"
      ]
     },
     "metadata": {
      "application/vnd.databricks.v1+output": {
       "addedWidgets": {},
       "aggData": [],
       "aggError": "",
       "aggOverflow": false,
       "aggSchema": [],
       "aggSeriesLimitReached": false,
       "aggType": "",
       "arguments": {},
       "columnCustomDisplayInfos": {},
       "data": [
        [
         "Essex",
         "District Council",
         1839,
         1
        ],
        [
         "Hampshire",
         "District Council",
         1658,
         2
        ],
        [
         "Kent",
         "District Council",
         1654,
         3
        ],
        [
         "Greater London",
         "London Boroughs",
         6155,
         1
        ],
        [
         "City of London",
         "London Boroughs",
         10,
         2
        ],
        [
         "Greater Manchester",
         "Metropolitan Districts",
         2879,
         1
        ],
        [
         "West Yorkshire",
         "Metropolitan Districts",
         2456,
         2
        ],
        [
         "West Midlands",
         "Metropolitan Districts",
         2454,
         3
        ],
        [
         "Cheshire",
         "Unitary Authorities",
         1344,
         1
        ],
        [
         "County Durham",
         "Unitary Authorities",
         1051,
         2
        ],
        [
         "Berkshire",
         "Unitary Authorities",
         932,
         3
        ]
       ],
       "datasetInfos": [],
       "dbfsResultPath": null,
       "isJsonSchema": true,
       "metadata": {},
       "overflow": false,
       "plotOptions": {
        "customPlotOptions": {},
        "displayType": "table",
        "pivotAggregation": null,
        "pivotColumns": null,
        "xColumns": null,
        "yColumns": null
       },
       "removedWidgets": [],
       "schema": [
        {
         "metadata": "{}",
         "name": "county",
         "type": "\"string\""
        },
        {
         "metadata": "{}",
         "name": "council_type",
         "type": "\"string\""
        },
        {
         "metadata": "{}",
         "name": "sales_volume",
         "type": "\"long\""
        },
        {
         "metadata": "{}",
         "name": "rank",
         "type": "\"integer\""
        }
       ],
       "type": "table"
      }
     },
     "output_type": "display_data"
    }
   ],
   "source": [
    "%sql\n",
    "WITH cte_county AS (\n",
    "  SELECT county,\n",
    "    council_type,\n",
    "    SUM(sales_volume_sep_2019) sales_volume,\n",
    "    DENSE_RANK() OVER(PARTITION BY council_type ORDER BY SUM(sales_volume_sep_2019) DESC) AS rank\n",
    "  FROM demo.councils\n",
    "  GROUP BY county, council_type\n",
    ")\n",
    "SELECT *\n",
    "FROM cte_county\n",
    "WHERE rank <= 3;"
   ]
  }
 ],
 "metadata": {
  "application/vnd.databricks.v1+notebook": {
   "dashboards": [],
   "language": "python",
   "notebookMetadata": {
    "mostRecentlyExecutedCommandWithImplicitDF": {
     "commandId": 2154216454169495,
     "dataframes": [
      "_sqldf"
     ]
    },
    "pythonIndentUnit": 4
   },
   "notebookName": "solution_pyspark1",
   "notebookOrigID": 2154216454169442,
   "widgets": {}
  },
  "kernelspec": {
   "display_name": "Python 3",
   "language": "python",
   "name": "python3"
  },
  "language_info": {
   "codemirror_mode": {
    "name": "ipython",
    "version": 3
   },
   "file_extension": ".py",
   "mimetype": "text/x-python",
   "name": "python",
   "nbconvert_exporter": "python",
   "pygments_lexer": "ipython3",
   "version": "3.8.8"
  }
 },
 "nbformat": 4,
 "nbformat_minor": 1
}
