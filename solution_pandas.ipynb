{
 "cells": [
  {
   "cell_type": "code",
   "execution_count": 0,
   "metadata": {
    "application/vnd.databricks.v1+cell": {
     "cellMetadata": {
      "byteLimit": 2048000,
      "rowLimit": 10000
     },
     "inputWidgets": {},
     "nuid": "bab1bd2c-ca8f-4c39-a22e-43bf3ffd2a19",
     "showTitle": false,
     "title": ""
    }
   },
   "outputs": [],
   "source": [
    "import pandas as pd\n",
    "import numpy as np\n",
    "\n",
    "input_directory = '/dbfs/FileStore/tables/data'"
   ]
  },
  {
   "cell_type": "code",
   "execution_count": 0,
   "metadata": {
    "application/vnd.databricks.v1+cell": {
     "cellMetadata": {
      "byteLimit": 2048000,
      "rowLimit": 10000
     },
     "inputWidgets": {},
     "nuid": "caa7b5ff-f20f-416b-8933-66516ebe1c79",
     "showTitle": false,
     "title": ""
    }
   },
   "outputs": [],
   "source": [
    "district_councilsdf = pd.read_csv(f'{input_directory}/england_councils/district_councils.csv', \n",
    "                                  header=0).assign(council_type='District Council')\n",
    "\n",
    "london_boroughsdf = pd.read_csv(f'{input_directory}/england_councils/london_boroughs.csv', \n",
    "                                header=0).assign(council_type='London Borough')\n",
    "\n",
    "metropolitan_districtsdf = pd.read_csv(f'{input_directory}/england_councils/metropolitan_districts.csv', \n",
    "                                       header=0).assign(council_type='Metropolitan District')\n",
    "\n",
    "unitary_authoritiesdf = pd.read_csv(f'{input_directory}/england_councils/unitary_authorities.csv', \n",
    "                                    header=0).assign(council_type='Unitary Authority')\n"
   ]
  },
  {
   "cell_type": "code",
   "execution_count": 0,
   "metadata": {
    "application/vnd.databricks.v1+cell": {
     "cellMetadata": {
      "byteLimit": 2048000,
      "rowLimit": 10000
     },
     "inputWidgets": {},
     "nuid": "ec6a1e39-2372-4d9e-aad9-43dca96e6af8",
     "showTitle": false,
     "title": ""
    }
   },
   "outputs": [
    {
     "output_type": "stream",
     "name": "stdout",
     "output_type": "stream",
     "text": [
      "(316, 3)\n"
     ]
    }
   ],
   "source": [
    "dfs = [district_councilsdf, london_boroughsdf, metropolitan_districtsdf, unitary_authoritiesdf]\n",
    "councils_df = pd.concat(dfs, ignore_index=True)\n",
    "print(councils_df.shape)"
   ]
  },
  {
   "cell_type": "code",
   "execution_count": 0,
   "metadata": {
    "application/vnd.databricks.v1+cell": {
     "cellMetadata": {
      "byteLimit": 2048000,
      "rowLimit": 10000
     },
     "inputWidgets": {},
     "nuid": "94776754-8fb7-4133-a9a4-4a69f5d83fe2",
     "showTitle": false,
     "title": ""
    }
   },
   "outputs": [
    {
     "output_type": "display_data",
     "data": {
      "text/html": [
       "<div>\n<style scoped>\n    .dataframe tbody tr th:only-of-type {\n        vertical-align: middle;\n    }\n\n    .dataframe tbody tr th {\n        vertical-align: top;\n    }\n\n    .dataframe thead th {\n        text-align: right;\n    }\n</style>\n<table border=\"1\" class=\"dataframe\">\n  <thead>\n    <tr style=\"text-align: right;\">\n      <th></th>\n      <th>council</th>\n      <th>county</th>\n      <th>council_type</th>\n    </tr>\n  </thead>\n  <tbody>\n    <tr>\n      <th>0</th>\n      <td>Adur</td>\n      <td>West Sussex</td>\n      <td>District Council</td>\n    </tr>\n    <tr>\n      <th>1</th>\n      <td>Allerdale</td>\n      <td>Cumbria</td>\n      <td>District Council</td>\n    </tr>\n    <tr>\n      <th>2</th>\n      <td>Amber Valley</td>\n      <td>Derbyshire</td>\n      <td>District Council</td>\n    </tr>\n    <tr>\n      <th>3</th>\n      <td>Arun</td>\n      <td>West Sussex</td>\n      <td>District Council</td>\n    </tr>\n    <tr>\n      <th>4</th>\n      <td>Ashfield</td>\n      <td>Nottinghamshire</td>\n      <td>District Council</td>\n    </tr>\n  </tbody>\n</table>\n</div>"
      ]
     },
     "metadata": {
      "application/vnd.databricks.v1+output": {
       "addedWidgets": {},
       "arguments": {},
       "data": "<div>\n<style scoped>\n    .dataframe tbody tr th:only-of-type {\n        vertical-align: middle;\n    }\n\n    .dataframe tbody tr th {\n        vertical-align: top;\n    }\n\n    .dataframe thead th {\n        text-align: right;\n    }\n</style>\n<table border=\"1\" class=\"dataframe\">\n  <thead>\n    <tr style=\"text-align: right;\">\n      <th></th>\n      <th>council</th>\n      <th>county</th>\n      <th>council_type</th>\n    </tr>\n  </thead>\n  <tbody>\n    <tr>\n      <th>0</th>\n      <td>Adur</td>\n      <td>West Sussex</td>\n      <td>District Council</td>\n    </tr>\n    <tr>\n      <th>1</th>\n      <td>Allerdale</td>\n      <td>Cumbria</td>\n      <td>District Council</td>\n    </tr>\n    <tr>\n      <th>2</th>\n      <td>Amber Valley</td>\n      <td>Derbyshire</td>\n      <td>District Council</td>\n    </tr>\n    <tr>\n      <th>3</th>\n      <td>Arun</td>\n      <td>West Sussex</td>\n      <td>District Council</td>\n    </tr>\n    <tr>\n      <th>4</th>\n      <td>Ashfield</td>\n      <td>Nottinghamshire</td>\n      <td>District Council</td>\n    </tr>\n  </tbody>\n</table>\n</div>",
       "datasetInfos": [],
       "metadata": {},
       "removedWidgets": [],
       "textData": null,
       "type": "htmlSandbox"
      }
     },
     "output_type": "display_data"
    }
   ],
   "source": [
    "councils_df.head(5)"
   ]
  },
  {
   "cell_type": "code",
   "execution_count": 0,
   "metadata": {
    "application/vnd.databricks.v1+cell": {
     "cellMetadata": {
      "byteLimit": 2048000,
      "rowLimit": 10000
     },
     "inputWidgets": {},
     "nuid": "b544d089-958c-4621-8da1-79817329e070",
     "showTitle": false,
     "title": ""
    },
    "scrolled": true
   },
   "outputs": [],
   "source": [
    "avg_pricedf = pd.read_csv(f'{input_directory}/property_avg_price.csv', header=0)\\\n",
    "                .rename(columns={'local_authority':'council'})\\\n",
    "                .loc[:, ['council','avg_price_nov_2019']]"
   ]
  },
  {
   "cell_type": "code",
   "execution_count": 0,
   "metadata": {
    "application/vnd.databricks.v1+cell": {
     "cellMetadata": {
      "byteLimit": 2048000,
      "rowLimit": 10000
     },
     "inputWidgets": {},
     "nuid": "525b9398-5f37-4fe3-8349-c32c1166c77f",
     "showTitle": false,
     "title": ""
    }
   },
   "outputs": [],
   "source": [
    "sales_volumedf = pd.read_csv(f'{input_directory}/property_sales_volume.csv', header=0)\\\n",
    "                .rename(columns={'local_authority':'council'})\\\n",
    "                .loc[:, ['council','sales_volume_sep_2019']]"
   ]
  },
  {
   "cell_type": "code",
   "execution_count": 0,
   "metadata": {
    "application/vnd.databricks.v1+cell": {
     "cellMetadata": {
      "byteLimit": 2048000,
      "rowLimit": 10000
     },
     "inputWidgets": {},
     "nuid": "42018a1d-c701-4055-873c-3fd031070ae7",
     "showTitle": false,
     "title": ""
    }
   },
   "outputs": [
    {
     "output_type": "display_data",
     "data": {
      "text/html": [
       "<div>\n<style scoped>\n    .dataframe tbody tr th:only-of-type {\n        vertical-align: middle;\n    }\n\n    .dataframe tbody tr th {\n        vertical-align: top;\n    }\n\n    .dataframe thead th {\n        text-align: right;\n    }\n</style>\n<table border=\"1\" class=\"dataframe\">\n  <thead>\n    <tr style=\"text-align: right;\">\n      <th></th>\n      <th>council</th>\n      <th>avg_price_nov_2019</th>\n    </tr>\n  </thead>\n  <tbody>\n    <tr>\n      <th>0</th>\n      <td>Adur</td>\n      <td>316482.0</td>\n    </tr>\n    <tr>\n      <th>1</th>\n      <td>Allerdale</td>\n      <td>148708.0</td>\n    </tr>\n    <tr>\n      <th>2</th>\n      <td>Amber Valley</td>\n      <td>184204.0</td>\n    </tr>\n    <tr>\n      <th>3</th>\n      <td>Arun</td>\n      <td>290304.0</td>\n    </tr>\n    <tr>\n      <th>4</th>\n      <td>Ashfield</td>\n      <td>141916.0</td>\n    </tr>\n  </tbody>\n</table>\n</div>"
      ]
     },
     "metadata": {
      "application/vnd.databricks.v1+output": {
       "addedWidgets": {},
       "arguments": {},
       "data": "<div>\n<style scoped>\n    .dataframe tbody tr th:only-of-type {\n        vertical-align: middle;\n    }\n\n    .dataframe tbody tr th {\n        vertical-align: top;\n    }\n\n    .dataframe thead th {\n        text-align: right;\n    }\n</style>\n<table border=\"1\" class=\"dataframe\">\n  <thead>\n    <tr style=\"text-align: right;\">\n      <th></th>\n      <th>council</th>\n      <th>avg_price_nov_2019</th>\n    </tr>\n  </thead>\n  <tbody>\n    <tr>\n      <th>0</th>\n      <td>Adur</td>\n      <td>316482.0</td>\n    </tr>\n    <tr>\n      <th>1</th>\n      <td>Allerdale</td>\n      <td>148708.0</td>\n    </tr>\n    <tr>\n      <th>2</th>\n      <td>Amber Valley</td>\n      <td>184204.0</td>\n    </tr>\n    <tr>\n      <th>3</th>\n      <td>Arun</td>\n      <td>290304.0</td>\n    </tr>\n    <tr>\n      <th>4</th>\n      <td>Ashfield</td>\n      <td>141916.0</td>\n    </tr>\n  </tbody>\n</table>\n</div>",
       "datasetInfos": [],
       "metadata": {},
       "removedWidgets": [],
       "textData": null,
       "type": "htmlSandbox"
      }
     },
     "output_type": "display_data"
    }
   ],
   "source": [
    "avg_pricedf.head(5)"
   ]
  },
  {
   "cell_type": "code",
   "execution_count": 0,
   "metadata": {
    "application/vnd.databricks.v1+cell": {
     "cellMetadata": {
      "byteLimit": 2048000,
      "rowLimit": 10000
     },
     "inputWidgets": {},
     "nuid": "5482401f-67ab-4ebb-b769-fdb78dc7e3a2",
     "showTitle": false,
     "title": ""
    }
   },
   "outputs": [
    {
     "output_type": "display_data",
     "data": {
      "text/html": [
       "<div>\n<style scoped>\n    .dataframe tbody tr th:only-of-type {\n        vertical-align: middle;\n    }\n\n    .dataframe tbody tr th {\n        vertical-align: top;\n    }\n\n    .dataframe thead th {\n        text-align: right;\n    }\n</style>\n<table border=\"1\" class=\"dataframe\">\n  <thead>\n    <tr style=\"text-align: right;\">\n      <th></th>\n      <th>council</th>\n      <th>sales_volume_sep_2019</th>\n    </tr>\n  </thead>\n  <tbody>\n    <tr>\n      <th>0</th>\n      <td>Adur</td>\n      <td>82</td>\n    </tr>\n    <tr>\n      <th>1</th>\n      <td>Allerdale</td>\n      <td>122</td>\n    </tr>\n    <tr>\n      <th>2</th>\n      <td>Amber Valley</td>\n      <td>156</td>\n    </tr>\n    <tr>\n      <th>3</th>\n      <td>Arun</td>\n      <td>234</td>\n    </tr>\n    <tr>\n      <th>4</th>\n      <td>Ashfield</td>\n      <td>156</td>\n    </tr>\n  </tbody>\n</table>\n</div>"
      ]
     },
     "metadata": {
      "application/vnd.databricks.v1+output": {
       "addedWidgets": {},
       "arguments": {},
       "data": "<div>\n<style scoped>\n    .dataframe tbody tr th:only-of-type {\n        vertical-align: middle;\n    }\n\n    .dataframe tbody tr th {\n        vertical-align: top;\n    }\n\n    .dataframe thead th {\n        text-align: right;\n    }\n</style>\n<table border=\"1\" class=\"dataframe\">\n  <thead>\n    <tr style=\"text-align: right;\">\n      <th></th>\n      <th>council</th>\n      <th>sales_volume_sep_2019</th>\n    </tr>\n  </thead>\n  <tbody>\n    <tr>\n      <th>0</th>\n      <td>Adur</td>\n      <td>82</td>\n    </tr>\n    <tr>\n      <th>1</th>\n      <td>Allerdale</td>\n      <td>122</td>\n    </tr>\n    <tr>\n      <th>2</th>\n      <td>Amber Valley</td>\n      <td>156</td>\n    </tr>\n    <tr>\n      <th>3</th>\n      <td>Arun</td>\n      <td>234</td>\n    </tr>\n    <tr>\n      <th>4</th>\n      <td>Ashfield</td>\n      <td>156</td>\n    </tr>\n  </tbody>\n</table>\n</div>",
       "datasetInfos": [],
       "metadata": {},
       "removedWidgets": [],
       "textData": null,
       "type": "htmlSandbox"
      }
     },
     "output_type": "display_data"
    }
   ],
   "source": [
    "sales_volumedf.head(5)"
   ]
  },
  {
   "cell_type": "code",
   "execution_count": 0,
   "metadata": {
    "application/vnd.databricks.v1+cell": {
     "cellMetadata": {
      "byteLimit": 2048000,
      "rowLimit": 10000
     },
     "inputWidgets": {},
     "nuid": "d4e09d73-746e-4dac-9636-f0086800ba10",
     "showTitle": false,
     "title": ""
    }
   },
   "outputs": [],
   "source": [
    "councils_df = councils_df.merge(avg_pricedf, on='council', how='left')\\\n",
    "                         .merge(sales_volumedf, on='council', how='left')\\\n",
    "                         .replace({np.nan: 'None'})"
   ]
  },
  {
   "cell_type": "code",
   "execution_count": 0,
   "metadata": {
    "application/vnd.databricks.v1+cell": {
     "cellMetadata": {
      "byteLimit": 2048000,
      "rowLimit": 10000
     },
     "inputWidgets": {},
     "nuid": "c29403cc-e61f-4437-a81b-2bbe08c83228",
     "showTitle": false,
     "title": ""
    }
   },
   "outputs": [
    {
     "output_type": "display_data",
     "data": {
      "text/html": [
       "<div>\n<style scoped>\n    .dataframe tbody tr th:only-of-type {\n        vertical-align: middle;\n    }\n\n    .dataframe tbody tr th {\n        vertical-align: top;\n    }\n\n    .dataframe thead th {\n        text-align: right;\n    }\n</style>\n<table border=\"1\" class=\"dataframe\">\n  <thead>\n    <tr style=\"text-align: right;\">\n      <th></th>\n      <th>council</th>\n      <th>county</th>\n      <th>council_type</th>\n      <th>avg_price_nov_2019</th>\n      <th>sales_volume_sep_2019</th>\n    </tr>\n  </thead>\n  <tbody>\n    <tr>\n      <th>0</th>\n      <td>Adur</td>\n      <td>West Sussex</td>\n      <td>District Council</td>\n      <td>316482.0</td>\n      <td>82.0</td>\n    </tr>\n    <tr>\n      <th>1</th>\n      <td>Allerdale</td>\n      <td>Cumbria</td>\n      <td>District Council</td>\n      <td>148708.0</td>\n      <td>122.0</td>\n    </tr>\n    <tr>\n      <th>2</th>\n      <td>Amber Valley</td>\n      <td>Derbyshire</td>\n      <td>District Council</td>\n      <td>184204.0</td>\n      <td>156.0</td>\n    </tr>\n    <tr>\n      <th>3</th>\n      <td>Arun</td>\n      <td>West Sussex</td>\n      <td>District Council</td>\n      <td>290304.0</td>\n      <td>234.0</td>\n    </tr>\n    <tr>\n      <th>4</th>\n      <td>Ashfield</td>\n      <td>Nottinghamshire</td>\n      <td>District Council</td>\n      <td>141916.0</td>\n      <td>156.0</td>\n    </tr>\n  </tbody>\n</table>\n</div>"
      ]
     },
     "metadata": {
      "application/vnd.databricks.v1+output": {
       "addedWidgets": {},
       "arguments": {},
       "data": "<div>\n<style scoped>\n    .dataframe tbody tr th:only-of-type {\n        vertical-align: middle;\n    }\n\n    .dataframe tbody tr th {\n        vertical-align: top;\n    }\n\n    .dataframe thead th {\n        text-align: right;\n    }\n</style>\n<table border=\"1\" class=\"dataframe\">\n  <thead>\n    <tr style=\"text-align: right;\">\n      <th></th>\n      <th>council</th>\n      <th>county</th>\n      <th>council_type</th>\n      <th>avg_price_nov_2019</th>\n      <th>sales_volume_sep_2019</th>\n    </tr>\n  </thead>\n  <tbody>\n    <tr>\n      <th>0</th>\n      <td>Adur</td>\n      <td>West Sussex</td>\n      <td>District Council</td>\n      <td>316482.0</td>\n      <td>82.0</td>\n    </tr>\n    <tr>\n      <th>1</th>\n      <td>Allerdale</td>\n      <td>Cumbria</td>\n      <td>District Council</td>\n      <td>148708.0</td>\n      <td>122.0</td>\n    </tr>\n    <tr>\n      <th>2</th>\n      <td>Amber Valley</td>\n      <td>Derbyshire</td>\n      <td>District Council</td>\n      <td>184204.0</td>\n      <td>156.0</td>\n    </tr>\n    <tr>\n      <th>3</th>\n      <td>Arun</td>\n      <td>West Sussex</td>\n      <td>District Council</td>\n      <td>290304.0</td>\n      <td>234.0</td>\n    </tr>\n    <tr>\n      <th>4</th>\n      <td>Ashfield</td>\n      <td>Nottinghamshire</td>\n      <td>District Council</td>\n      <td>141916.0</td>\n      <td>156.0</td>\n    </tr>\n  </tbody>\n</table>\n</div>",
       "datasetInfos": [],
       "metadata": {},
       "removedWidgets": [],
       "textData": null,
       "type": "htmlSandbox"
      }
     },
     "output_type": "display_data"
    }
   ],
   "source": [
    "councils_df.head(5)"
   ]
  }
 ],
 "metadata": {
  "application/vnd.databricks.v1+notebook": {
   "dashboards": [],
   "language": "python",
   "notebookMetadata": {
    "pythonIndentUnit": 4
   },
   "notebookName": "solution_pandas",
   "notebookOrigID": 3466056745691229,
   "widgets": {}
  },
  "kernelspec": {
   "display_name": "Python 3",
   "language": "python",
   "name": "python3"
  },
  "language_info": {
   "codemirror_mode": {
    "name": "ipython",
    "version": 3
   },
   "file_extension": ".py",
   "mimetype": "text/x-python",
   "name": "python",
   "nbconvert_exporter": "python",
   "pygments_lexer": "ipython3",
   "version": "3.8.8"
  }
 },
 "nbformat": 4,
 "nbformat_minor": 0
}
